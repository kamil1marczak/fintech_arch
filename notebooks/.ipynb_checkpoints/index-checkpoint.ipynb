{
 "cells": [
  {
   "cell_type": "markdown",
   "metadata": {
    "pycharm": {
     "name": "#%% md\n"
    }
   },
   "source": [
    "Diagram generators"
   ]
  },
  {
   "cell_type": "code",
   "execution_count": null,
   "metadata": {
    "ExecuteTime": {
     "start_time": "2021-10-06T19:29:47.867Z"
    },
    "jupyter": {
     "source_hidden": true
    },
    "pycharm": {
     "name": "#%%\n"
    },
    "solution2": "shown",
    "solution2_first": true,
    "tags": []
   },
   "outputs": [],
   "source": [
    "from __future__ import print_function\n",
    "\n",
    "import os\n",
    "\n",
    "\n",
    "%load_ext autoreload\n",
    "%autoreload 2\n",
    "\n",
    "packages = !conda list\n",
    "packages\n",
    "\n",
    "!unset SERVER_NAME\n",
    "!print SERVER_NAME\n",
    "\n",
    "# !conda install yapf --yes\n",
    "\n",
    "# !GV_FILE_PATH=\"/opt/conda/lib/python3.9/site-packages/resources/programming/flowchart/database.png\"\n",
    "# !conda install graphviz\n",
    "# !conda install -c conda-forge python-graphviz\n",
    "\n",
    "# os.environ['PATH'] = os.environ['PATH']+';'+os.environ['CONDA_PREFIX']+r\"\\Library\\bin\\graphviz\"\n",
    "\n",
    "from diagram_gen import diagram_core_banking, diagram_kyc, diagram_lendings, diagram_2f, diagram_management, diagram_transaction"
   ]
  },
  {
   "cell_type": "code",
   "execution_count": 2,
   "metadata": {
    "ExecuteTime": {
     "end_time": "2021-10-06T19:21:24.605574Z",
     "start_time": "2021-10-06T19:21:24.515466Z"
    },
    "solution2": "shown",
    "solution2_first": true,
    "tags": []
   },
   "outputs": [],
   "source": [
    "\n",
    "import diagram_gen\n",
    "import ipywidgets as widgets\n",
    "import yaml\n",
    "from IPython.display import display\n",
    "from ipywidgets import Layout\n",
    "\n",
    "yaml_file = open(\"conf.yaml\")\n",
    "config_file = yaml.safe_load(yaml_file)\n",
    "\n",
    "\n",
    "def printer(data):\n",
    "    display(data)\n",
    "\n",
    "\n",
    "def outputer(widget, method=None):\n",
    "    # output = widgets.interactive_output(method, {'lendings': widget,})\n",
    "\n",
    "    diagram = widgets.interactive_output(method, {'data': widget, })\n",
    "    return diagram\n",
    "\n",
    "\n",
    "def choice_outputer(widget):\n",
    "    output = widgets.interactive_output(printer, {'data': widget, })\n",
    "    return output"
   ]
  },
  {
   "cell_type": "code",
   "execution_count": 3,
   "metadata": {
    "ExecuteTime": {
     "end_time": "2021-10-06T19:21:24.742307Z",
     "start_time": "2021-10-06T19:21:24.607704Z"
    },
    "solution2": "shown",
    "solution2_first": true,
    "tags": []
   },
   "outputs": [],
   "source": [
    "style = {'description_width': 'initial'}\n",
    "\n",
    "layout = widgets.Layout(width='auto', height='auto')\n",
    "\n",
    "# items_layout = Layout(width='auto')  # override the default width of the button to 'auto' to let the button grow\n",
    "items_layout = Layout(display='flex',\n",
    "                      width='auto',\n",
    "                      flex_flow='row',\n",
    "                      justify_content='space-between')  # override the default width of the button to 'auto' to let the button grow\n",
    "\n",
    "box_layout = Layout(display='flex',\n",
    "                    flex_flow='column',\n",
    "                    align_items='stretch',\n",
    "                    border='solid',\n",
    "                    width='50%')\n",
    "\n",
    "time_to_market = widgets.BoundedIntText(value=12, min=3, description=\"Time to Market\",\n",
    "                                        layout=items_layout)\n",
    "time_to_market_result = choice_outputer(time_to_market)\n",
    "\n",
    "\n",
    "inhouse_out = widgets.Dropdown(options=config_file[\"Inhouse or external\"], description='Inhouse or external',\n",
    "                               disabled=False, layout=items_layout)\n",
    "inhouse_out_result = choice_outputer(inhouse_out)\n",
    "\n",
    "entity = widgets.Dropdown(options=config_file[\"Entity type\"], description='Entity type', disabled=False,\n",
    "                          layout=items_layout)\n",
    "entity_results = choice_outputer(entity)\n",
    "# display(entity, entity_results)\n",
    "\n",
    "client_type = widgets.SelectMultiple(options=config_file[\"Client type\"], description=\"Client type\", disabled=False,\n",
    "                                     layout=items_layout)\n",
    "\n",
    "\n",
    "localication = widgets.Dropdown(\n",
    "    options=config_file[\"Localisation\"],\n",
    "    description='Localisation',\n",
    "    disabled=False,\n",
    "    layout=items_layout,\n",
    ")\n",
    "\n",
    "# display(localication, localication.value)\n",
    "\n",
    "brockerage = widgets.SelectMultiple(\n",
    "    options=config_file[\"Brokerage\"],\n",
    "    description='Brokerage',\n",
    "    disabled=False,\n",
    "    layout=items_layout,\n",
    ")\n",
    "\n",
    "brockerage_value = choice_outputer(brockerage)\n",
    "\n",
    "# display(brockerage, brockerage_value)\n",
    "\n",
    "transactions = widgets.SelectMultiple(\n",
    "    options=config_file[\"Transactions\"],\n",
    "    description='Transactions',\n",
    "    disabled=False,\n",
    "    layout=items_layout,\n",
    ")\n",
    "\n",
    "# display(transactions, transactions.value)\n",
    "\n",
    "management = widgets.SelectMultiple(\n",
    "    options=config_file[\"Management\"],\n",
    "    description='Management',\n",
    "    disabled=False,\n",
    "    layout=items_layout,\n",
    ")\n",
    "\n",
    "# display(management, management.value)\n",
    "\n",
    "security = widgets.SelectMultiple(\n",
    "    options=config_file[\"Security\"],\n",
    "    description='Security',\n",
    "    disabled=False,\n",
    "    layout=items_layout,\n",
    "    value=(\"KYC\", \"2FA\", \"AML\")\n",
    ")\n",
    "\n",
    "# display(security, security.value)\n",
    "\n",
    "cards = widgets.SelectMultiple(\n",
    "    options=config_file[\"Cards\"],\n",
    "    description='Cards',\n",
    "    disabled=False,\n",
    "    layout=items_layout,\n",
    ")\n",
    "\n",
    "# display(cards, cards.value)\n",
    "\n",
    "client_interface = widgets.SelectMultiple(\n",
    "    options=config_file[\"Client interface\"],\n",
    "    description='Client interface',\n",
    "    disabled=False,\n",
    "    layout=items_layout,\n",
    ")\n",
    "\n",
    "# display(client_interface, client_interface.value)\n",
    "\n",
    "lendings = widgets.Dropdown(\n",
    "    options=config_file[\"Lending\"],\n",
    "    description='Lending',\n",
    "    disabled=False,\n",
    "    layout=items_layout,\n",
    ")\n",
    "\n",
    "lendings_value = choice_outputer(lendings)\n",
    "# display(lendings, lendings.value)\n",
    "\n",
    "accounts = widgets.SelectMultiple(\n",
    "    options=config_file[\"Accounts\"],\n",
    "    description='Accounts',\n",
    "    disabled=False,\n",
    "    layout=items_layout,\n",
    ")\n",
    "\n",
    "# display(accounts, accounts.value)\n",
    "\n",
    "white_label = widgets.SelectMultiple(\n",
    "    options=config_file[\"White lavel provider\"],\n",
    "    description='White lavel provider',\n",
    "    disabled=False,\n",
    "    layout=items_layout,\n",
    ")\n",
    "\n",
    "# display(white_label, white_label.value)\n"
   ]
  },
  {
   "cell_type": "markdown",
   "metadata": {
    "pycharm": {
     "name": "#%% md\n"
    },
    "slideshow": {
     "slide_type": "subslide"
    },
    "tags": []
   },
   "source": [
    "### Options"
   ]
  },
  {
   "cell_type": "code",
   "execution_count": 4,
   "metadata": {
    "ExecuteTime": {
     "end_time": "2021-10-06T19:21:24.765690Z",
     "start_time": "2021-10-06T19:21:24.745367Z"
    },
    "pycharm": {
     "name": "#%%\n"
    },
    "slideshow": {
     "slide_type": "slide"
    },
    "solution2": "shown",
    "solution2_first": true,
    "tags": []
   },
   "outputs": [
    {
     "data": {
      "application/vnd.jupyter.widget-view+json": {
       "model_id": "58c90393211f47b78771886eadfbb896",
       "version_major": 2,
       "version_minor": 0
      },
      "text/plain": [
       "Box(children=(BoundedIntText(value=12, description='Time to Market', layout=Layout(display='flex', flex_flow='…"
      ]
     },
     "metadata": {},
     "output_type": "display_data"
    }
   ],
   "source": [
    "form_item_layout = Layout(\n",
    "    display='flex',\n",
    "    flex_flow='row',\n",
    "    justify_content='space-between'\n",
    ")\n",
    "\n",
    "items = [time_to_market, entity, client_type, localication, brockerage, transactions, management, security, cards,\n",
    "         client_interface,\n",
    "         lendings, accounts, white_label]\n",
    "box = widgets.Box(children=items, layout=box_layout)\n",
    "display(box)"
   ]
  },
  {
   "cell_type": "markdown",
   "metadata": {
    "tags": []
   },
   "source": [
    "### core banking solution"
   ]
  },
  {
   "cell_type": "code",
   "execution_count": 5,
   "metadata": {
    "ExecuteTime": {
     "end_time": "2021-10-06T19:21:25.005867Z",
     "start_time": "2021-10-06T19:21:24.768136Z"
    },
    "pycharm": {
     "name": "#%%\n"
    },
    "solution2": "hidden",
    "solution2_first": true,
    "tags": []
   },
   "outputs": [
    {
     "data": {
      "application/vnd.jupyter.widget-view+json": {
       "model_id": "cc5a392ab24b4b9ca413fb6dc6cf78b6",
       "version_major": 2,
       "version_minor": 0
      },
      "text/plain": [
       "Output()"
      ]
     },
     "metadata": {},
     "output_type": "display_data"
    }
   ],
   "source": [
    "d_cbs = widgets.interactive_output(diagram_core_banking, {'brockerage': brockerage, 'client_type': client_type, 'lendings': lendings})\n",
    "# cbd = widgets.interactive_output(diagram_core_banking, {'brockerage': brockerage.value, 'client_type': client_type.value, 'lendings': lendings.value})\n",
    "display(d_cbs)\n"
   ]
  },
  {
   "cell_type": "markdown",
   "metadata": {},
   "source": [
    "### Lendings"
   ]
  },
  {
   "cell_type": "code",
   "execution_count": 6,
   "metadata": {
    "ExecuteTime": {
     "end_time": "2021-10-06T19:21:25.487462Z",
     "start_time": "2021-10-06T19:21:25.009410Z"
    },
    "jupyter": {
     "outputs_hidden": false
    },
    "pycharm": {
     "name": "#%% #lendings\n"
    },
    "solution2": "hidden",
    "solution2_first": true
   },
   "outputs": [
    {
     "data": {
      "application/vnd.jupyter.widget-view+json": {
       "model_id": "fa8e11c73afb4c3ba337a4d41bba76ed",
       "version_major": 2,
       "version_minor": 0
      },
      "text/plain": [
       "Output()"
      ]
     },
     "metadata": {},
     "output_type": "display_data"
    }
   ],
   "source": [
    "d_len =  widgets.interactive_output(diagram_lendings, {'lendings': lendings})\n",
    "display(d_len)\n"
   ]
  },
  {
   "cell_type": "markdown",
   "metadata": {},
   "source": [
    "### KYC"
   ]
  },
  {
   "cell_type": "code",
   "execution_count": 7,
   "metadata": {
    "ExecuteTime": {
     "end_time": "2021-10-06T19:21:25.767583Z",
     "start_time": "2021-10-06T19:21:25.492593Z"
    },
    "jupyter": {
     "outputs_hidden": false
    },
    "pycharm": {
     "name": "#%% #KYC\n"
    },
    "solution2": "hidden",
    "solution2_first": true
   },
   "outputs": [
    {
     "data": {
      "application/vnd.jupyter.widget-view+json": {
       "model_id": "58a737f48e114d8aab974452658e2d52",
       "version_major": 2,
       "version_minor": 0
      },
      "text/plain": [
       "Output()"
      ]
     },
     "metadata": {},
     "output_type": "display_data"
    }
   ],
   "source": [
    "d_kyc = widgets.interactive_output(diagram_kyc, {'client_type': client_type, \"security\": security})\n",
    "\n",
    "display(d_kyc)"
   ]
  },
  {
   "cell_type": "markdown",
   "metadata": {},
   "source": [
    "### 2FA"
   ]
  },
  {
   "cell_type": "code",
   "execution_count": 8,
   "metadata": {
    "ExecuteTime": {
     "end_time": "2021-10-06T19:21:26.148802Z",
     "start_time": "2021-10-06T19:21:25.771212Z"
    },
    "jupyter": {
     "outputs_hidden": false
    },
    "pycharm": {
     "name": "#%%\n"
    },
    "solution2": "hidden",
    "solution2_first": true
   },
   "outputs": [
    {
     "data": {
      "application/vnd.jupyter.widget-view+json": {
       "model_id": "ef8eccd42901457f9b13c22f71849dc3",
       "version_major": 2,
       "version_minor": 0
      },
      "text/plain": [
       "Output()"
      ]
     },
     "metadata": {},
     "output_type": "display_data"
    }
   ],
   "source": [
    "d_2f = widgets.interactive_output(diagram_2f, {\"security\": security})\n",
    "display(d_2f)\n",
    "# d_2f = widgets.interact(diagram_kyc)"
   ]
  },
  {
   "cell_type": "markdown",
   "metadata": {},
   "source": [
    "### Management"
   ]
  },
  {
   "cell_type": "code",
   "execution_count": 9,
   "metadata": {
    "ExecuteTime": {
     "end_time": "2021-10-06T19:21:26.177849Z",
     "start_time": "2021-10-06T19:21:26.156846Z"
    },
    "jupyter": {
     "outputs_hidden": false
    },
    "pycharm": {
     "name": "#%%\n"
    },
    "solution2": "hidden",
    "solution2_first": true
   },
   "outputs": [
    {
     "data": {
      "application/vnd.jupyter.widget-view+json": {
       "model_id": "a5cd707c427a4806915d5a800b6b5e65",
       "version_major": 2,
       "version_minor": 0
      },
      "text/plain": [
       "Output()"
      ]
     },
     "metadata": {},
     "output_type": "display_data"
    }
   ],
   "source": [
    "# import importlib\n",
    "# importlib.reload(diagram_gen)\n",
    "\n",
    "d_management = widgets.interactive_output(diagram_management, {\"management\": management})\n",
    "display(d_management)"
   ]
  },
  {
   "cell_type": "markdown",
   "metadata": {},
   "source": [
    "### Transactions"
   ]
  },
  {
   "cell_type": "code",
   "execution_count": 10,
   "metadata": {
    "ExecuteTime": {
     "end_time": "2021-10-06T19:21:26.205880Z",
     "start_time": "2021-10-06T19:21:26.181154Z"
    },
    "pycharm": {
     "name": "#%%\n"
    },
    "solution2": "hidden",
    "solution2_first": true
   },
   "outputs": [
    {
     "data": {
      "application/vnd.jupyter.widget-view+json": {
       "model_id": "190ff0a3d4984ca9ba112a4791be6551",
       "version_major": 2,
       "version_minor": 0
      },
      "text/plain": [
       "Output()"
      ]
     },
     "metadata": {},
     "output_type": "display_data"
    }
   ],
   "source": [
    "d_transactions = widgets.interactive_output(diagram_transaction, {\"transactions\": transactions})\n",
    "display(d_transactions)"
   ]
  },
  {
   "cell_type": "code",
   "execution_count": 11,
   "metadata": {
    "ExecuteTime": {
     "end_time": "2021-10-06T19:21:26.224721Z",
     "start_time": "2021-10-06T19:21:26.210178Z"
    },
    "pycharm": {
     "name": "#%%\n"
    },
    "solution2": "shown",
    "solution2_first": true
   },
   "outputs": [
    {
     "data": {
      "text/plain": [
       "()"
      ]
     },
     "metadata": {},
     "output_type": "display_data"
    },
    {
     "name": "stdout",
     "output_type": "stream",
     "text": [
      "['Cluster',\n",
      " 'Diagram',\n",
      " 'Dict',\n",
      " 'Digraph',\n",
      " 'Edge',\n",
      " 'Group',\n",
      " 'List',\n",
      " 'Node',\n",
      " 'Path',\n",
      " 'Union',\n",
      " '__builtins__',\n",
      " '__cached__',\n",
      " '__cluster',\n",
      " '__diagram',\n",
      " '__doc__',\n",
      " '__file__',\n",
      " '__loader__',\n",
      " '__name__',\n",
      " '__package__',\n",
      " '__path__',\n",
      " '__spec__',\n",
      " 'aws',\n",
      " 'contextvars',\n",
      " 'generic',\n",
      " 'getcluster',\n",
      " 'getdiagram',\n",
      " 'onprem',\n",
      " 'os',\n",
      " 'outscale',\n",
      " 'programming',\n",
      " 'setcluster',\n",
      " 'setdiagram',\n",
      " 'uuid']\n"
     ]
    }
   ],
   "source": [
    "printer(brockerage.value)\n",
    "import pprint\n",
    "import diagrams\n",
    "pprint.pprint(dir(diagrams))\n",
    "# pprint.pprint(diagrams.__dict__)"
   ]
  }
 ],
 "metadata": {
  "celltoolbar": "Slideshow",
  "kernelspec": {
   "display_name": "Python 3 (ipykernel)",
   "language": "python",
   "name": "python3"
  },
  "language_info": {
   "codemirror_mode": {
    "name": "ipython",
    "version": 3
   },
   "file_extension": ".py",
   "mimetype": "text/x-python",
   "name": "python",
   "nbconvert_exporter": "python",
   "pygments_lexer": "ipython3",
   "version": "3.9.5"
  },
  "toc": {
   "base_numbering": 1,
   "nav_menu": {},
   "number_sections": true,
   "sideBar": true,
   "skip_h1_title": false,
   "title_cell": "Table of Contents",
   "title_sidebar": "Contents",
   "toc_cell": false,
   "toc_position": {},
   "toc_section_display": true,
   "toc_window_display": false
  },
  "varInspector": {
   "cols": {
    "lenName": 16,
    "lenType": 16,
    "lenVar": 40
   },
   "kernels_config": {
    "python": {
     "delete_cmd_postfix": "",
     "delete_cmd_prefix": "del ",
     "library": "var_list.py",
     "varRefreshCmd": "print(var_dic_list())"
    },
    "r": {
     "delete_cmd_postfix": ") ",
     "delete_cmd_prefix": "rm(",
     "library": "var_list.r",
     "varRefreshCmd": "cat(var_dic_list()) "
    }
   },
   "types_to_exclude": [
    "module",
    "function",
    "builtin_function_or_method",
    "instance",
    "_Feature"
   ],
   "window_display": false
  }
 },
 "nbformat": 4,
 "nbformat_minor": 4
}
